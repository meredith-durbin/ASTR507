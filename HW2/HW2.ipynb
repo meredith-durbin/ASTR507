{
 "cells": [
  {
   "cell_type": "code",
   "execution_count": 1,
   "metadata": {},
   "outputs": [],
   "source": [
    "%matplotlib inline\n",
    "import numpy as np\n",
    "from astropy.constants import k_B, m_e, c\n",
    "from astropy import units as u\n",
    "from scipy.optimize import fsolve"
   ]
  },
  {
   "cell_type": "code",
   "execution_count": 2,
   "metadata": {},
   "outputs": [
    {
     "name": "stdout",
     "output_type": "stream",
     "text": [
      "0.22442686530422196\n"
     ]
    }
   ],
   "source": [
    "# define relevant quantities\n",
    "T = 1e6 * u.K\n",
    "n = 0.01 * u.cm**-3\n",
    "V = (40*u.kpc**3).cgs\n",
    "N = n*V\n",
    "m_e = m_e.cgs\n",
    "\n",
    "# define weird quasi-maxwellian formula\n",
    "def maxwellian(v0):\n",
    "    v = v0 * u.cm/u.s\n",
    "    const = (0.5*N*v*((m_e/(2*k_B*T))**(1./2.))).cgs\n",
    "    exponential = (np.exp(-m_e*v**2/(2*k_B*T))).cgs\n",
    "    result = const*exponential\n",
    "    return result - 1\n",
    "\n",
    "v0 = 0.1*c.cgs.value # initial guess\n",
    "sol = fsolve(maxwellian, v0)\n",
    "print(sol[0] * (u.cm/u.s) / c.cgs) # solution in terms of speed of light"
   ]
  },
  {
   "cell_type": "code",
   "execution_count": 35,
   "metadata": {},
   "outputs": [],
   "source": [
    "from astropy.constants import g0, GM_earth, R_earth\n",
    "\n",
    "sigma = np.pi*u.AA**2\n",
    "v_esc = ((2*GM_earth/R_earth).cgs)**0.5\n",
    "T = 1e3 * u.K\n",
    "\n",
    "m_H2 = 2 * 1.6737236e-24 * u.g\n",
    "m_O2 = 2 * 2.6566962e-23 * u.g\n",
    "m_D2 = 2 * m_H2\n",
    "\n",
    "def phi(m):\n",
    "    n_esc = (m * g0 / (k_B * T * sigma)).cgs\n",
    "    v_s = (2*k_B*T/m)**0.5\n",
    "    lam_esc = (v_esc/v_s)**2\n",
    "    return (v_s * n_esc * np.exp(-lam_esc) * (lam_esc + 1)/(2*np.pi**0.5)).cgs\n",
    "\n",
    "def loss_rate(m):\n",
    "    return (phi(m) * 4*np.pi*R_earth**2).cgs"
   ]
  },
  {
   "cell_type": "code",
   "execution_count": 28,
   "metadata": {},
   "outputs": [
    {
     "data": {
      "text/latex": [
       "$26019102 \\; \\mathrm{\\frac{1}{s\\,cm^{2}}}$"
      ],
      "text/plain": [
       "<Quantity 26019101.95073355 1 / (cm2 s)>"
      ]
     },
     "execution_count": 28,
     "metadata": {},
     "output_type": "execute_result"
    }
   ],
   "source": [
    "phi(m_H2)"
   ]
  },
  {
   "cell_type": "code",
   "execution_count": 29,
   "metadata": {},
   "outputs": [
    {
     "data": {
      "text/latex": [
       "$1.3301016 \\times 10^{26} \\; \\mathrm{\\frac{1}{s}}$"
      ],
      "text/plain": [
       "<Quantity 1.3301015974773118e+26 1 / s>"
      ]
     },
     "execution_count": 29,
     "metadata": {},
     "output_type": "execute_result"
    }
   ],
   "source": [
    "loss_rate(m_H2)"
   ]
  },
  {
   "cell_type": "code",
   "execution_count": 30,
   "metadata": {},
   "outputs": [
    {
     "data": {
      "text/latex": [
       "$4.1974814 \\times 10^{42} \\; \\mathrm{}$"
      ],
      "text/plain": [
       "<Quantity 4.197481417255002e+42>"
      ]
     },
     "execution_count": 30,
     "metadata": {},
     "output_type": "execute_result"
    }
   ],
   "source": [
    "(loss_rate(m_H2) * u.Gyr).cgs"
   ]
  },
  {
   "cell_type": "code",
   "execution_count": 31,
   "metadata": {},
   "outputs": [
    {
     "data": {
      "text/latex": [
       "$1.0636573 \\times 10^{-70} \\; \\mathrm{\\frac{1}{s}}$"
      ],
      "text/plain": [
       "<Quantity 1.0636572587245402e-70 1 / s>"
      ]
     },
     "execution_count": 31,
     "metadata": {},
     "output_type": "execute_result"
    }
   ],
   "source": [
    "loss_rate(m_O2)"
   ]
  },
  {
   "cell_type": "code",
   "execution_count": 32,
   "metadata": {},
   "outputs": [
    {
     "data": {
      "text/latex": [
       "$3.356647 \\times 10^{-54} \\; \\mathrm{}$"
      ],
      "text/plain": [
       "<Quantity 3.356647030792555e-54>"
      ]
     },
     "execution_count": 32,
     "metadata": {},
     "output_type": "execute_result"
    }
   ],
   "source": [
    "(loss_rate(m_O2) * u.Gyr).cgs"
   ]
  },
  {
   "cell_type": "code",
   "execution_count": 36,
   "metadata": {},
   "outputs": [
    {
     "data": {
      "text/latex": [
       "$9.5771605 \\times 10^{19} \\; \\mathrm{\\frac{1}{s}}$"
      ],
      "text/plain": [
       "<Quantity 9.577160539322419e+19 1 / s>"
      ]
     },
     "execution_count": 36,
     "metadata": {},
     "output_type": "execute_result"
    }
   ],
   "source": [
    "loss_rate(m_D2)"
   ]
  },
  {
   "cell_type": "code",
   "execution_count": 37,
   "metadata": {},
   "outputs": [
    {
     "data": {
      "text/latex": [
       "$3.022322 \\times 10^{36} \\; \\mathrm{}$"
      ],
      "text/plain": [
       "<Quantity 3.022322014357212e+36>"
      ]
     },
     "execution_count": 37,
     "metadata": {},
     "output_type": "execute_result"
    }
   ],
   "source": [
    "(loss_rate(m_D2) * u.Gyr).cgs"
   ]
  },
  {
   "cell_type": "code",
   "execution_count": null,
   "metadata": {},
   "outputs": [],
   "source": []
  }
 ],
 "metadata": {
  "kernelspec": {
   "display_name": "Python [conda env:astroconda]",
   "language": "python",
   "name": "conda-env-astroconda-py"
  },
  "language_info": {
   "codemirror_mode": {
    "name": "ipython",
    "version": 3
   },
   "file_extension": ".py",
   "mimetype": "text/x-python",
   "name": "python",
   "nbconvert_exporter": "python",
   "pygments_lexer": "ipython3",
   "version": "3.5.4"
  }
 },
 "nbformat": 4,
 "nbformat_minor": 2
}
