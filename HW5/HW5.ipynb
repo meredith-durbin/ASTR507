{
 "cells": [
  {
   "cell_type": "code",
   "execution_count": 1,
   "metadata": {},
   "outputs": [],
   "source": [
    "%matplotlib inline\n",
    "%config InlineBackend.figure_format='retina'\n",
    "\n",
    "import astropy.constants as const\n",
    "import matplotlib.pyplot as plt\n",
    "import numpy as np\n",
    "from astropy import units as u"
   ]
  },
  {
   "cell_type": "code",
   "execution_count": 2,
   "metadata": {},
   "outputs": [
    {
     "data": {
      "text/latex": [
       "$1.924573 \\times 10^{-9} \\; \\mathrm{cm}$"
      ],
      "text/plain": [
       "<Quantity 1.92457304e-09 cm>"
      ]
     },
     "execution_count": 2,
     "metadata": {},
     "output_type": "execute_result"
    }
   ],
   "source": [
    "# de Broglie wavelength of electron\n",
    "T = 1.5e7 * u.K\n",
    "lam = const.h/np.sqrt(2*np.pi*const.m_e*const.k_B*T)\n",
    "lam.cgs"
   ]
  },
  {
   "cell_type": "code",
   "execution_count": 3,
   "metadata": {},
   "outputs": [
    {
     "data": {
      "text/latex": [
       "$0.71285827 \\; \\mathrm{}$"
      ],
      "text/plain": [
       "<Quantity 0.71285827>"
      ]
     },
     "execution_count": 3,
     "metadata": {},
     "output_type": "execute_result"
    }
   ],
   "source": [
    "# degeneracy parameter\n",
    "n = 1e26 * u.cm**-3\n",
    "(n * lam**3).cgs"
   ]
  },
  {
   "cell_type": "code",
   "execution_count": 4,
   "metadata": {},
   "outputs": [
    {
     "data": {
      "text/latex": [
       "$1.3881213 \\; \\mathrm{}$"
      ],
      "text/plain": [
       "<Quantity 1.38812126>"
      ]
     },
     "execution_count": 4,
     "metadata": {},
     "output_type": "execute_result"
    }
   ],
   "source": [
    "# saha equation\n",
    "saha = n**-1 * lam**-3 * np.exp(-13.6*u.eV / (const.k_B * T))\n",
    "saha.cgs"
   ]
  },
  {
   "cell_type": "code",
   "execution_count": 5,
   "metadata": {},
   "outputs": [
    {
     "data": {
      "text/latex": [
       "$0.13365046 \\; \\mathrm{\\mathring{A}}$"
      ],
      "text/plain": [
       "<Quantity 0.13365046 Angstrom>"
      ]
     },
     "execution_count": 5,
     "metadata": {},
     "output_type": "execute_result"
    }
   ],
   "source": [
    "# wigner-seitz cell radius\n",
    "r_p = (3/(4*np.pi*n))**(1/3)\n",
    "r_p.to(u.AA)"
   ]
  },
  {
   "cell_type": "code",
   "execution_count": null,
   "metadata": {},
   "outputs": [],
   "source": []
  }
 ],
 "metadata": {
  "kernelspec": {
   "display_name": "Python [conda env:astroconda]",
   "language": "python",
   "name": "conda-env-astroconda-py"
  },
  "language_info": {
   "codemirror_mode": {
    "name": "ipython",
    "version": 3
   },
   "file_extension": ".py",
   "mimetype": "text/x-python",
   "name": "python",
   "nbconvert_exporter": "python",
   "pygments_lexer": "ipython3",
   "version": "3.5.4"
  }
 },
 "nbformat": 4,
 "nbformat_minor": 2
}
